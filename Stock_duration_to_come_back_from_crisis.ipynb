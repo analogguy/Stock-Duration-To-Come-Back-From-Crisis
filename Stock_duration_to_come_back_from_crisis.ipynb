{
  "nbformat": 4,
  "nbformat_minor": 0,
  "metadata": {
    "colab": {
      "name": "Stock duration to come back from crisis.ipynb",
      "provenance": []
    },
    "kernelspec": {
      "name": "python3",
      "display_name": "Python 3"
    }
  },
  "cells": [
    {
      "cell_type": "markdown",
      "metadata": {
        "id": "k35C-GJPmpoR",
        "colab_type": "text"
      },
      "source": [
        "\n",
        "#Stock Duration to come back from Crisis \n",
        "\n"
      ]
    },
    {
      "cell_type": "code",
      "metadata": {
        "id": "DXso4qO1mK2i",
        "colab_type": "code",
        "colab": {}
      },
      "source": [
        "#Import neccesary libraries & packages\n"
      ],
      "execution_count": null,
      "outputs": []
    },
    {
      "cell_type": "code",
      "metadata": {
        "id": "KT8nQLAOm6HG",
        "colab_type": "code",
        "colab": {
          "base_uri": "https://localhost:8080/",
          "height": 394
        },
        "outputId": "56b1a9dd-3c28-4f07-9d37-ecf669eff704"
      },
      "source": [
        "import numpy as np\n",
        "import pandas as pd\n",
        "!pip install yfinance\n",
        "import yfinance as yf\n",
        "import matplotlib\n",
        "from matplotlib import pyplot as plt #can also be written as \" import matplotlib.pyplot as plt \"\n",
        "from pandas.plotting import register_matplotlib_converters #to register pandas converters and formatters with matplotlib \n",
        "#^why didn't it work with from pd.plotting and only works with pandas.plotting ?\n",
        "#^more about what we imported is given here https://stackoverflow.com/questions/61443261/what-is-the-use-of-pd-plotting-register-matplotlib-converters-in-pandas\n",
        "from pandas.tseries.offsets import DateOffset\n",
        "print(plt.style.available)\n",
        "plt.style.use('seaborn') #Using a specific matplotlib style\n",
        "from dateutil.relativedelta import relativedelta\n",
        "#timedelta is used for time manipulation"
      ],
      "execution_count": 1,
      "outputs": [
        {
          "output_type": "stream",
          "text": [
            "Collecting yfinance\n",
            "  Downloading https://files.pythonhosted.org/packages/c2/31/8b374a12b90def92a4e27d0fc595fc43635f395984e36a075244d98bd265/yfinance-0.1.54.tar.gz\n",
            "Requirement already satisfied: pandas>=0.24 in /usr/local/lib/python3.6/dist-packages (from yfinance) (1.0.5)\n",
            "Requirement already satisfied: numpy>=1.15 in /usr/local/lib/python3.6/dist-packages (from yfinance) (1.18.5)\n",
            "Requirement already satisfied: requests>=2.20 in /usr/local/lib/python3.6/dist-packages (from yfinance) (2.23.0)\n",
            "Requirement already satisfied: multitasking>=0.0.7 in /usr/local/lib/python3.6/dist-packages (from yfinance) (0.0.9)\n",
            "Requirement already satisfied: pytz>=2017.2 in /usr/local/lib/python3.6/dist-packages (from pandas>=0.24->yfinance) (2018.9)\n",
            "Requirement already satisfied: python-dateutil>=2.6.1 in /usr/local/lib/python3.6/dist-packages (from pandas>=0.24->yfinance) (2.8.1)\n",
            "Requirement already satisfied: urllib3!=1.25.0,!=1.25.1,<1.26,>=1.21.1 in /usr/local/lib/python3.6/dist-packages (from requests>=2.20->yfinance) (1.24.3)\n",
            "Requirement already satisfied: certifi>=2017.4.17 in /usr/local/lib/python3.6/dist-packages (from requests>=2.20->yfinance) (2020.6.20)\n",
            "Requirement already satisfied: idna<3,>=2.5 in /usr/local/lib/python3.6/dist-packages (from requests>=2.20->yfinance) (2.10)\n",
            "Requirement already satisfied: chardet<4,>=3.0.2 in /usr/local/lib/python3.6/dist-packages (from requests>=2.20->yfinance) (3.0.4)\n",
            "Requirement already satisfied: six>=1.5 in /usr/local/lib/python3.6/dist-packages (from python-dateutil>=2.6.1->pandas>=0.24->yfinance) (1.15.0)\n",
            "Building wheels for collected packages: yfinance\n",
            "  Building wheel for yfinance (setup.py) ... \u001b[?25l\u001b[?25hdone\n",
            "  Created wheel for yfinance: filename=yfinance-0.1.54-py2.py3-none-any.whl size=22409 sha256=7b81c0148b16edca5ebf85a853b5ea24a819b81231853548ed2408f2162de32c\n",
            "  Stored in directory: /root/.cache/pip/wheels/f9/e3/5b/ec24dd2984b12d61e0abf26289746c2436a0e7844f26f2515c\n",
            "Successfully built yfinance\n",
            "Installing collected packages: yfinance\n",
            "Successfully installed yfinance-0.1.54\n",
            "['Solarize_Light2', '_classic_test_patch', 'bmh', 'classic', 'dark_background', 'fast', 'fivethirtyeight', 'ggplot', 'grayscale', 'seaborn', 'seaborn-bright', 'seaborn-colorblind', 'seaborn-dark', 'seaborn-dark-palette', 'seaborn-darkgrid', 'seaborn-deep', 'seaborn-muted', 'seaborn-notebook', 'seaborn-paper', 'seaborn-pastel', 'seaborn-poster', 'seaborn-talk', 'seaborn-ticks', 'seaborn-white', 'seaborn-whitegrid', 'tableau-colorblind10']\n"
          ],
          "name": "stdout"
        }
      ]
    },
    {
      "cell_type": "markdown",
      "metadata": {
        "id": "2k88lzE6vTcO",
        "colab_type": "text"
      },
      "source": [
        "#Parameters\n",
        "\n",
        "\n",
        "**Stock**\n",
        "\n",
        "The company's stock to be studied, \n",
        "this variable should be set with official market \"Ticker\" of the company.\n",
        "Ex - 'AAPL' is ticker for Apple\n",
        "\n",
        "\n",
        "\n"
      ]
    },
    {
      "cell_type": "code",
      "metadata": {
        "id": "rNQyMf8AvtMp",
        "colab_type": "code",
        "colab": {}
      },
      "source": [
        "stock = 'BA' #Stcok under study, Boeing in our case\n",
        "stock_name = 'Boeing'"
      ],
      "execution_count": 2,
      "outputs": []
    },
    {
      "cell_type": "markdown",
      "metadata": {
        "id": "yIZaYY_lagpb",
        "colab_type": "text"
      },
      "source": [
        "**Period**\n",
        "\n",
        "Period of time under study.\n",
        "\n",
        "For example, we can have 5 years or say 10 years of data to find crisis for our stock under our study"
      ]
    },
    {
      "cell_type": "code",
      "metadata": {
        "id": "U5O-g_kmbImC",
        "colab_type": "code",
        "colab": {}
      },
      "source": [
        "period = 'max' #could be 1y, 2y, 5y, 10y, ytd, max"
      ],
      "execution_count": 3,
      "outputs": []
    },
    {
      "cell_type": "markdown",
      "metadata": {
        "id": "-A7wfQ03XImb",
        "colab_type": "text"
      },
      "source": [
        "**time_window**\n",
        "\n",
        "The time window will be the moving time interval used to measure loss in stock's value. At each point in time, the loss will be calculated compared to the reference point dated at the beginning of that time window.\n",
        "\n",
        "This way the loss thus calculated will be representative of loss over that rolling window."
      ]
    },
    {
      "cell_type": "code",
      "metadata": {
        "id": "pHR3faaXX3g9",
        "colab_type": "code",
        "colab": {}
      },
      "source": [
        "time_window = 20 \n",
        "#change will be calculated over a rolling time period of 20 OPEN trading days"
      ],
      "execution_count": 4,
      "outputs": []
    },
    {
      "cell_type": "markdown",
      "metadata": {
        "id": "wSpCH_dFYWOf",
        "colab_type": "text"
      },
      "source": [
        "**large_loss**\n",
        "\n",
        "A stock will be considered to have a crisis if the loss it suffers over the time_window is larger than large_loss.\n",
        "\n",
        "\n"
      ]
    },
    {
      "cell_type": "code",
      "metadata": {
        "id": "bPyI5MCPYUQZ",
        "colab_type": "code",
        "colab": {}
      },
      "source": [
        "large_loss = -0.30 \n",
        "#large loss (a percentage number: large_loss = -0.30 represents a loss of -30%)"
      ],
      "execution_count": 5,
      "outputs": []
    },
    {
      "cell_type": "markdown",
      "metadata": {
        "id": "fBKudE2aY9r4",
        "colab_type": "text"
      },
      "source": [
        "\n",
        "#Implementation\n",
        "**Get The Historical price data of stock for period under study**\n",
        "\n",
        "We will use Yfinance to download historical stock data and store it in a pandas dataframe format.\n",
        "\n"
      ]
    },
    {
      "cell_type": "code",
      "metadata": {
        "id": "bHeBpasMcIMz",
        "colab_type": "code",
        "colab": {
          "base_uri": "https://localhost:8080/",
          "height": 252
        },
        "outputId": "7973e8e3-68fc-4b90-a8da-f726bc001b99"
      },
      "source": [
        "df = yf.download(tickers = stock, period = period, interval= '1d') #Download the data\n",
        "df.drop(columns = ['Open', 'High', 'Low' , 'Adj Close', 'Volume'], inplace=True) #Drop unneccesary columns\n",
        "df.insert(0, 'Company', stock_name) #Insert a new column at location 0 with heading Company and value = stock_name in it\n",
        "df.head() #Display first 5 rows of data"
      ],
      "execution_count": 6,
      "outputs": [
        {
          "output_type": "stream",
          "text": [
            "\r[*********************100%***********************]  1 of 1 completed\n"
          ],
          "name": "stdout"
        },
        {
          "output_type": "execute_result",
          "data": {
            "text/html": [
              "<div>\n",
              "<style scoped>\n",
              "    .dataframe tbody tr th:only-of-type {\n",
              "        vertical-align: middle;\n",
              "    }\n",
              "\n",
              "    .dataframe tbody tr th {\n",
              "        vertical-align: top;\n",
              "    }\n",
              "\n",
              "    .dataframe thead th {\n",
              "        text-align: right;\n",
              "    }\n",
              "</style>\n",
              "<table border=\"1\" class=\"dataframe\">\n",
              "  <thead>\n",
              "    <tr style=\"text-align: right;\">\n",
              "      <th></th>\n",
              "      <th>Company</th>\n",
              "      <th>Close</th>\n",
              "    </tr>\n",
              "    <tr>\n",
              "      <th>Date</th>\n",
              "      <th></th>\n",
              "      <th></th>\n",
              "    </tr>\n",
              "  </thead>\n",
              "  <tbody>\n",
              "    <tr>\n",
              "      <th>1962-01-02</th>\n",
              "      <td>Boeing</td>\n",
              "      <td>0.823045</td>\n",
              "    </tr>\n",
              "    <tr>\n",
              "      <th>1962-01-03</th>\n",
              "      <td>Boeing</td>\n",
              "      <td>0.839506</td>\n",
              "    </tr>\n",
              "    <tr>\n",
              "      <th>1962-01-04</th>\n",
              "      <td>Boeing</td>\n",
              "      <td>0.831276</td>\n",
              "    </tr>\n",
              "    <tr>\n",
              "      <th>1962-01-05</th>\n",
              "      <td>Boeing</td>\n",
              "      <td>0.814815</td>\n",
              "    </tr>\n",
              "    <tr>\n",
              "      <th>1962-01-08</th>\n",
              "      <td>Boeing</td>\n",
              "      <td>0.816872</td>\n",
              "    </tr>\n",
              "  </tbody>\n",
              "</table>\n",
              "</div>"
            ],
            "text/plain": [
              "           Company     Close\n",
              "Date                        \n",
              "1962-01-02  Boeing  0.823045\n",
              "1962-01-03  Boeing  0.839506\n",
              "1962-01-04  Boeing  0.831276\n",
              "1962-01-05  Boeing  0.814815\n",
              "1962-01-08  Boeing  0.816872"
            ]
          },
          "metadata": {
            "tags": []
          },
          "execution_count": 6
        }
      ]
    },
    {
      "cell_type": "markdown",
      "metadata": {
        "id": "vIJqD9yrld5g",
        "colab_type": "text"
      },
      "source": [
        "**Calculate change over the rolling time period**\n",
        "\n",
        "We create a column to store the reference price at the beginning of time_window."
      ]
    },
    {
      "cell_type": "code",
      "metadata": {
        "id": "78ouGpgrlvnQ",
        "colab_type": "code",
        "colab": {
          "base_uri": "https://localhost:8080/",
          "height": 450
        },
        "outputId": "2be4ab59-920f-4e98-ccce-38c346e0e045"
      },
      "source": [
        "df['Reference Price'] = df.Close.shift(time_window)  \n",
        "#We created a reference price which is the close price, 20 days earlier, each time shifted by 20 open trading days.\n",
        "df"
      ],
      "execution_count": 7,
      "outputs": [
        {
          "output_type": "execute_result",
          "data": {
            "text/html": [
              "<div>\n",
              "<style scoped>\n",
              "    .dataframe tbody tr th:only-of-type {\n",
              "        vertical-align: middle;\n",
              "    }\n",
              "\n",
              "    .dataframe tbody tr th {\n",
              "        vertical-align: top;\n",
              "    }\n",
              "\n",
              "    .dataframe thead th {\n",
              "        text-align: right;\n",
              "    }\n",
              "</style>\n",
              "<table border=\"1\" class=\"dataframe\">\n",
              "  <thead>\n",
              "    <tr style=\"text-align: right;\">\n",
              "      <th></th>\n",
              "      <th>Company</th>\n",
              "      <th>Close</th>\n",
              "      <th>Reference Price</th>\n",
              "    </tr>\n",
              "    <tr>\n",
              "      <th>Date</th>\n",
              "      <th></th>\n",
              "      <th></th>\n",
              "      <th></th>\n",
              "    </tr>\n",
              "  </thead>\n",
              "  <tbody>\n",
              "    <tr>\n",
              "      <th>1962-01-02</th>\n",
              "      <td>Boeing</td>\n",
              "      <td>0.823045</td>\n",
              "      <td>NaN</td>\n",
              "    </tr>\n",
              "    <tr>\n",
              "      <th>1962-01-03</th>\n",
              "      <td>Boeing</td>\n",
              "      <td>0.839506</td>\n",
              "      <td>NaN</td>\n",
              "    </tr>\n",
              "    <tr>\n",
              "      <th>1962-01-04</th>\n",
              "      <td>Boeing</td>\n",
              "      <td>0.831276</td>\n",
              "      <td>NaN</td>\n",
              "    </tr>\n",
              "    <tr>\n",
              "      <th>1962-01-05</th>\n",
              "      <td>Boeing</td>\n",
              "      <td>0.814815</td>\n",
              "      <td>NaN</td>\n",
              "    </tr>\n",
              "    <tr>\n",
              "      <th>1962-01-08</th>\n",
              "      <td>Boeing</td>\n",
              "      <td>0.816872</td>\n",
              "      <td>NaN</td>\n",
              "    </tr>\n",
              "    <tr>\n",
              "      <th>...</th>\n",
              "      <td>...</td>\n",
              "      <td>...</td>\n",
              "      <td>...</td>\n",
              "    </tr>\n",
              "    <tr>\n",
              "      <th>2020-08-19</th>\n",
              "      <td>Boeing</td>\n",
              "      <td>169.270004</td>\n",
              "      <td>179.789993</td>\n",
              "    </tr>\n",
              "    <tr>\n",
              "      <th>2020-08-20</th>\n",
              "      <td>Boeing</td>\n",
              "      <td>169.580002</td>\n",
              "      <td>176.449997</td>\n",
              "    </tr>\n",
              "    <tr>\n",
              "      <th>2020-08-21</th>\n",
              "      <td>Boeing</td>\n",
              "      <td>167.500000</td>\n",
              "      <td>173.759995</td>\n",
              "    </tr>\n",
              "    <tr>\n",
              "      <th>2020-08-24</th>\n",
              "      <td>Boeing</td>\n",
              "      <td>178.270004</td>\n",
              "      <td>170.210007</td>\n",
              "    </tr>\n",
              "    <tr>\n",
              "      <th>2020-08-25</th>\n",
              "      <td>Boeing</td>\n",
              "      <td>174.729996</td>\n",
              "      <td>170.839996</td>\n",
              "    </tr>\n",
              "  </tbody>\n",
              "</table>\n",
              "<p>14764 rows × 3 columns</p>\n",
              "</div>"
            ],
            "text/plain": [
              "           Company       Close  Reference Price\n",
              "Date                                           \n",
              "1962-01-02  Boeing    0.823045              NaN\n",
              "1962-01-03  Boeing    0.839506              NaN\n",
              "1962-01-04  Boeing    0.831276              NaN\n",
              "1962-01-05  Boeing    0.814815              NaN\n",
              "1962-01-08  Boeing    0.816872              NaN\n",
              "...            ...         ...              ...\n",
              "2020-08-19  Boeing  169.270004       179.789993\n",
              "2020-08-20  Boeing  169.580002       176.449997\n",
              "2020-08-21  Boeing  167.500000       173.759995\n",
              "2020-08-24  Boeing  178.270004       170.210007\n",
              "2020-08-25  Boeing  174.729996       170.839996\n",
              "\n",
              "[14764 rows x 3 columns]"
            ]
          },
          "metadata": {
            "tags": []
          },
          "execution_count": 7
        }
      ]
    },
    {
      "cell_type": "markdown",
      "metadata": {
        "id": "PBL8kQCkoU-f",
        "colab_type": "text"
      },
      "source": [
        "At the beginning of data there is no reference price, hence missing values as we didn't have data before that point\n",
        "\n",
        "So we will replace missing values with oldest price available, the first historical price point available in data."
      ]
    },
    {
      "cell_type": "code",
      "metadata": {
        "id": "vt3CAca5o_t6",
        "colab_type": "code",
        "colab": {
          "base_uri": "https://localhost:8080/",
          "height": 450
        },
        "outputId": "a81da931-d272-49b2-d06d-3759f96d8dab"
      },
      "source": [
        "df.fillna(value = df.iloc[0]['Close'], inplace = True)\n",
        "#Understand inplace = True from the link below,\n",
        "#https://medium.com/@jman4190/explaining-the-inplace-parameter-for-beginners-5de7ffa18d2e#:~:text=When%20inplace%20%3D%20True%20%2C%20the%20data,to%20save%20it%20to%20something.\n",
        "df"
      ],
      "execution_count": 8,
      "outputs": [
        {
          "output_type": "execute_result",
          "data": {
            "text/html": [
              "<div>\n",
              "<style scoped>\n",
              "    .dataframe tbody tr th:only-of-type {\n",
              "        vertical-align: middle;\n",
              "    }\n",
              "\n",
              "    .dataframe tbody tr th {\n",
              "        vertical-align: top;\n",
              "    }\n",
              "\n",
              "    .dataframe thead th {\n",
              "        text-align: right;\n",
              "    }\n",
              "</style>\n",
              "<table border=\"1\" class=\"dataframe\">\n",
              "  <thead>\n",
              "    <tr style=\"text-align: right;\">\n",
              "      <th></th>\n",
              "      <th>Company</th>\n",
              "      <th>Close</th>\n",
              "      <th>Reference Price</th>\n",
              "    </tr>\n",
              "    <tr>\n",
              "      <th>Date</th>\n",
              "      <th></th>\n",
              "      <th></th>\n",
              "      <th></th>\n",
              "    </tr>\n",
              "  </thead>\n",
              "  <tbody>\n",
              "    <tr>\n",
              "      <th>1962-01-02</th>\n",
              "      <td>Boeing</td>\n",
              "      <td>0.823045</td>\n",
              "      <td>0.823045</td>\n",
              "    </tr>\n",
              "    <tr>\n",
              "      <th>1962-01-03</th>\n",
              "      <td>Boeing</td>\n",
              "      <td>0.839506</td>\n",
              "      <td>0.823045</td>\n",
              "    </tr>\n",
              "    <tr>\n",
              "      <th>1962-01-04</th>\n",
              "      <td>Boeing</td>\n",
              "      <td>0.831276</td>\n",
              "      <td>0.823045</td>\n",
              "    </tr>\n",
              "    <tr>\n",
              "      <th>1962-01-05</th>\n",
              "      <td>Boeing</td>\n",
              "      <td>0.814815</td>\n",
              "      <td>0.823045</td>\n",
              "    </tr>\n",
              "    <tr>\n",
              "      <th>1962-01-08</th>\n",
              "      <td>Boeing</td>\n",
              "      <td>0.816872</td>\n",
              "      <td>0.823045</td>\n",
              "    </tr>\n",
              "    <tr>\n",
              "      <th>...</th>\n",
              "      <td>...</td>\n",
              "      <td>...</td>\n",
              "      <td>...</td>\n",
              "    </tr>\n",
              "    <tr>\n",
              "      <th>2020-08-19</th>\n",
              "      <td>Boeing</td>\n",
              "      <td>169.270004</td>\n",
              "      <td>179.789993</td>\n",
              "    </tr>\n",
              "    <tr>\n",
              "      <th>2020-08-20</th>\n",
              "      <td>Boeing</td>\n",
              "      <td>169.580002</td>\n",
              "      <td>176.449997</td>\n",
              "    </tr>\n",
              "    <tr>\n",
              "      <th>2020-08-21</th>\n",
              "      <td>Boeing</td>\n",
              "      <td>167.500000</td>\n",
              "      <td>173.759995</td>\n",
              "    </tr>\n",
              "    <tr>\n",
              "      <th>2020-08-24</th>\n",
              "      <td>Boeing</td>\n",
              "      <td>178.270004</td>\n",
              "      <td>170.210007</td>\n",
              "    </tr>\n",
              "    <tr>\n",
              "      <th>2020-08-25</th>\n",
              "      <td>Boeing</td>\n",
              "      <td>174.729996</td>\n",
              "      <td>170.839996</td>\n",
              "    </tr>\n",
              "  </tbody>\n",
              "</table>\n",
              "<p>14764 rows × 3 columns</p>\n",
              "</div>"
            ],
            "text/plain": [
              "           Company       Close  Reference Price\n",
              "Date                                           \n",
              "1962-01-02  Boeing    0.823045         0.823045\n",
              "1962-01-03  Boeing    0.839506         0.823045\n",
              "1962-01-04  Boeing    0.831276         0.823045\n",
              "1962-01-05  Boeing    0.814815         0.823045\n",
              "1962-01-08  Boeing    0.816872         0.823045\n",
              "...            ...         ...              ...\n",
              "2020-08-19  Boeing  169.270004       179.789993\n",
              "2020-08-20  Boeing  169.580002       176.449997\n",
              "2020-08-21  Boeing  167.500000       173.759995\n",
              "2020-08-24  Boeing  178.270004       170.210007\n",
              "2020-08-25  Boeing  174.729996       170.839996\n",
              "\n",
              "[14764 rows x 3 columns]"
            ]
          },
          "metadata": {
            "tags": []
          },
          "execution_count": 8
        }
      ]
    },
    {
      "cell_type": "markdown",
      "metadata": {
        "id": "I3rHgsIAmpK2",
        "colab_type": "text"
      },
      "source": [
        "**Now, we calculate a 'change' column: last 'Close' compared to 'Reference Price'. (the reference being the price of the stock at the start of time_window) . Reference Price was 'Close' observed 20 days ago.**"
      ]
    },
    {
      "cell_type": "code",
      "metadata": {
        "id": "nVaYTN90nstu",
        "colab_type": "code",
        "colab": {
          "base_uri": "https://localhost:8080/",
          "height": 450
        },
        "outputId": "f4114e3c-09fc-45c0-9744-59b50337885b"
      },
      "source": [
        "df['Change'] = (df['Close'] - df['Reference Price']) / df['Reference Price']\n",
        "df"
      ],
      "execution_count": 9,
      "outputs": [
        {
          "output_type": "execute_result",
          "data": {
            "text/html": [
              "<div>\n",
              "<style scoped>\n",
              "    .dataframe tbody tr th:only-of-type {\n",
              "        vertical-align: middle;\n",
              "    }\n",
              "\n",
              "    .dataframe tbody tr th {\n",
              "        vertical-align: top;\n",
              "    }\n",
              "\n",
              "    .dataframe thead th {\n",
              "        text-align: right;\n",
              "    }\n",
              "</style>\n",
              "<table border=\"1\" class=\"dataframe\">\n",
              "  <thead>\n",
              "    <tr style=\"text-align: right;\">\n",
              "      <th></th>\n",
              "      <th>Company</th>\n",
              "      <th>Close</th>\n",
              "      <th>Reference Price</th>\n",
              "      <th>Change</th>\n",
              "    </tr>\n",
              "    <tr>\n",
              "      <th>Date</th>\n",
              "      <th></th>\n",
              "      <th></th>\n",
              "      <th></th>\n",
              "      <th></th>\n",
              "    </tr>\n",
              "  </thead>\n",
              "  <tbody>\n",
              "    <tr>\n",
              "      <th>1962-01-02</th>\n",
              "      <td>Boeing</td>\n",
              "      <td>0.823045</td>\n",
              "      <td>0.823045</td>\n",
              "      <td>0.000000</td>\n",
              "    </tr>\n",
              "    <tr>\n",
              "      <th>1962-01-03</th>\n",
              "      <td>Boeing</td>\n",
              "      <td>0.839506</td>\n",
              "      <td>0.823045</td>\n",
              "      <td>0.020000</td>\n",
              "    </tr>\n",
              "    <tr>\n",
              "      <th>1962-01-04</th>\n",
              "      <td>Boeing</td>\n",
              "      <td>0.831276</td>\n",
              "      <td>0.823045</td>\n",
              "      <td>0.010000</td>\n",
              "    </tr>\n",
              "    <tr>\n",
              "      <th>1962-01-05</th>\n",
              "      <td>Boeing</td>\n",
              "      <td>0.814815</td>\n",
              "      <td>0.823045</td>\n",
              "      <td>-0.010000</td>\n",
              "    </tr>\n",
              "    <tr>\n",
              "      <th>1962-01-08</th>\n",
              "      <td>Boeing</td>\n",
              "      <td>0.816872</td>\n",
              "      <td>0.823045</td>\n",
              "      <td>-0.007500</td>\n",
              "    </tr>\n",
              "    <tr>\n",
              "      <th>...</th>\n",
              "      <td>...</td>\n",
              "      <td>...</td>\n",
              "      <td>...</td>\n",
              "      <td>...</td>\n",
              "    </tr>\n",
              "    <tr>\n",
              "      <th>2020-08-19</th>\n",
              "      <td>Boeing</td>\n",
              "      <td>169.270004</td>\n",
              "      <td>179.789993</td>\n",
              "      <td>-0.058513</td>\n",
              "    </tr>\n",
              "    <tr>\n",
              "      <th>2020-08-20</th>\n",
              "      <td>Boeing</td>\n",
              "      <td>169.580002</td>\n",
              "      <td>176.449997</td>\n",
              "      <td>-0.038935</td>\n",
              "    </tr>\n",
              "    <tr>\n",
              "      <th>2020-08-21</th>\n",
              "      <td>Boeing</td>\n",
              "      <td>167.500000</td>\n",
              "      <td>173.759995</td>\n",
              "      <td>-0.036027</td>\n",
              "    </tr>\n",
              "    <tr>\n",
              "      <th>2020-08-24</th>\n",
              "      <td>Boeing</td>\n",
              "      <td>178.270004</td>\n",
              "      <td>170.210007</td>\n",
              "      <td>0.047353</td>\n",
              "    </tr>\n",
              "    <tr>\n",
              "      <th>2020-08-25</th>\n",
              "      <td>Boeing</td>\n",
              "      <td>174.729996</td>\n",
              "      <td>170.839996</td>\n",
              "      <td>0.022770</td>\n",
              "    </tr>\n",
              "  </tbody>\n",
              "</table>\n",
              "<p>14764 rows × 4 columns</p>\n",
              "</div>"
            ],
            "text/plain": [
              "           Company       Close  Reference Price    Change\n",
              "Date                                                     \n",
              "1962-01-02  Boeing    0.823045         0.823045  0.000000\n",
              "1962-01-03  Boeing    0.839506         0.823045  0.020000\n",
              "1962-01-04  Boeing    0.831276         0.823045  0.010000\n",
              "1962-01-05  Boeing    0.814815         0.823045 -0.010000\n",
              "1962-01-08  Boeing    0.816872         0.823045 -0.007500\n",
              "...            ...         ...              ...       ...\n",
              "2020-08-19  Boeing  169.270004       179.789993 -0.058513\n",
              "2020-08-20  Boeing  169.580002       176.449997 -0.038935\n",
              "2020-08-21  Boeing  167.500000       173.759995 -0.036027\n",
              "2020-08-24  Boeing  178.270004       170.210007  0.047353\n",
              "2020-08-25  Boeing  174.729996       170.839996  0.022770\n",
              "\n",
              "[14764 rows x 4 columns]"
            ]
          },
          "metadata": {
            "tags": []
          },
          "execution_count": 9
        }
      ]
    },
    {
      "cell_type": "markdown",
      "metadata": {
        "id": "ZJBLnCipoTD6",
        "colab_type": "text"
      },
      "source": [
        "#Find the worst crisis\n",
        "To find the worst crisis, we will search for local minimums in the 'Change' column. i.e. smallest changes in Change column,\n",
        "\n",
        "And then find out of those 'Change' local minimums the ones that are inferior to our large_loss parameter.\n",
        "So, we will look for Boeing's worst crisis where stock fell more than 30%"
      ]
    },
    {
      "cell_type": "code",
      "metadata": {
        "id": "ZoVNyGk7pPW-",
        "colab_type": "code",
        "colab": {}
      },
      "source": [
        "#Creating a column of local minimums ( where a change is smaller than the one before and after )"
      ],
      "execution_count": null,
      "outputs": []
    },
    {
      "cell_type": "code",
      "metadata": {
        "id": "6RmylXylphSQ",
        "colab_type": "code",
        "colab": {
          "base_uri": "https://localhost:8080/",
          "height": 450
        },
        "outputId": "dd8699e2-8bd0-4537-98a4-43a9f76ba76e"
      },
      "source": [
        "df['Local Min'] = df.Change[ (df.Change.shift(1)>df.Change) & (df.Change.shift(-1)>df.Change) ]\n",
        "df\n",
        "#Here we don't need inPlace= True as we are making changes to df. If we weren't changing df and wanted to confirm them, we would have used inPlace."
      ],
      "execution_count": 10,
      "outputs": [
        {
          "output_type": "execute_result",
          "data": {
            "text/html": [
              "<div>\n",
              "<style scoped>\n",
              "    .dataframe tbody tr th:only-of-type {\n",
              "        vertical-align: middle;\n",
              "    }\n",
              "\n",
              "    .dataframe tbody tr th {\n",
              "        vertical-align: top;\n",
              "    }\n",
              "\n",
              "    .dataframe thead th {\n",
              "        text-align: right;\n",
              "    }\n",
              "</style>\n",
              "<table border=\"1\" class=\"dataframe\">\n",
              "  <thead>\n",
              "    <tr style=\"text-align: right;\">\n",
              "      <th></th>\n",
              "      <th>Company</th>\n",
              "      <th>Close</th>\n",
              "      <th>Reference Price</th>\n",
              "      <th>Change</th>\n",
              "      <th>Local Min</th>\n",
              "    </tr>\n",
              "    <tr>\n",
              "      <th>Date</th>\n",
              "      <th></th>\n",
              "      <th></th>\n",
              "      <th></th>\n",
              "      <th></th>\n",
              "      <th></th>\n",
              "    </tr>\n",
              "  </thead>\n",
              "  <tbody>\n",
              "    <tr>\n",
              "      <th>1962-01-02</th>\n",
              "      <td>Boeing</td>\n",
              "      <td>0.823045</td>\n",
              "      <td>0.823045</td>\n",
              "      <td>0.000000</td>\n",
              "      <td>NaN</td>\n",
              "    </tr>\n",
              "    <tr>\n",
              "      <th>1962-01-03</th>\n",
              "      <td>Boeing</td>\n",
              "      <td>0.839506</td>\n",
              "      <td>0.823045</td>\n",
              "      <td>0.020000</td>\n",
              "      <td>NaN</td>\n",
              "    </tr>\n",
              "    <tr>\n",
              "      <th>1962-01-04</th>\n",
              "      <td>Boeing</td>\n",
              "      <td>0.831276</td>\n",
              "      <td>0.823045</td>\n",
              "      <td>0.010000</td>\n",
              "      <td>NaN</td>\n",
              "    </tr>\n",
              "    <tr>\n",
              "      <th>1962-01-05</th>\n",
              "      <td>Boeing</td>\n",
              "      <td>0.814815</td>\n",
              "      <td>0.823045</td>\n",
              "      <td>-0.010000</td>\n",
              "      <td>-0.010000</td>\n",
              "    </tr>\n",
              "    <tr>\n",
              "      <th>1962-01-08</th>\n",
              "      <td>Boeing</td>\n",
              "      <td>0.816872</td>\n",
              "      <td>0.823045</td>\n",
              "      <td>-0.007500</td>\n",
              "      <td>NaN</td>\n",
              "    </tr>\n",
              "    <tr>\n",
              "      <th>...</th>\n",
              "      <td>...</td>\n",
              "      <td>...</td>\n",
              "      <td>...</td>\n",
              "      <td>...</td>\n",
              "      <td>...</td>\n",
              "    </tr>\n",
              "    <tr>\n",
              "      <th>2020-08-19</th>\n",
              "      <td>Boeing</td>\n",
              "      <td>169.270004</td>\n",
              "      <td>179.789993</td>\n",
              "      <td>-0.058513</td>\n",
              "      <td>-0.058513</td>\n",
              "    </tr>\n",
              "    <tr>\n",
              "      <th>2020-08-20</th>\n",
              "      <td>Boeing</td>\n",
              "      <td>169.580002</td>\n",
              "      <td>176.449997</td>\n",
              "      <td>-0.038935</td>\n",
              "      <td>NaN</td>\n",
              "    </tr>\n",
              "    <tr>\n",
              "      <th>2020-08-21</th>\n",
              "      <td>Boeing</td>\n",
              "      <td>167.500000</td>\n",
              "      <td>173.759995</td>\n",
              "      <td>-0.036027</td>\n",
              "      <td>NaN</td>\n",
              "    </tr>\n",
              "    <tr>\n",
              "      <th>2020-08-24</th>\n",
              "      <td>Boeing</td>\n",
              "      <td>178.270004</td>\n",
              "      <td>170.210007</td>\n",
              "      <td>0.047353</td>\n",
              "      <td>NaN</td>\n",
              "    </tr>\n",
              "    <tr>\n",
              "      <th>2020-08-25</th>\n",
              "      <td>Boeing</td>\n",
              "      <td>174.729996</td>\n",
              "      <td>170.839996</td>\n",
              "      <td>0.022770</td>\n",
              "      <td>NaN</td>\n",
              "    </tr>\n",
              "  </tbody>\n",
              "</table>\n",
              "<p>14764 rows × 5 columns</p>\n",
              "</div>"
            ],
            "text/plain": [
              "           Company       Close  Reference Price    Change  Local Min\n",
              "Date                                                                \n",
              "1962-01-02  Boeing    0.823045         0.823045  0.000000        NaN\n",
              "1962-01-03  Boeing    0.839506         0.823045  0.020000        NaN\n",
              "1962-01-04  Boeing    0.831276         0.823045  0.010000        NaN\n",
              "1962-01-05  Boeing    0.814815         0.823045 -0.010000  -0.010000\n",
              "1962-01-08  Boeing    0.816872         0.823045 -0.007500        NaN\n",
              "...            ...         ...              ...       ...        ...\n",
              "2020-08-19  Boeing  169.270004       179.789993 -0.058513  -0.058513\n",
              "2020-08-20  Boeing  169.580002       176.449997 -0.038935        NaN\n",
              "2020-08-21  Boeing  167.500000       173.759995 -0.036027        NaN\n",
              "2020-08-24  Boeing  178.270004       170.210007  0.047353        NaN\n",
              "2020-08-25  Boeing  174.729996       170.839996  0.022770        NaN\n",
              "\n",
              "[14764 rows x 5 columns]"
            ]
          },
          "metadata": {
            "tags": []
          },
          "execution_count": 10
        }
      ]
    },
    {
      "cell_type": "markdown",
      "metadata": {
        "id": "JBjYAMDFrD00",
        "colab_type": "text"
      },
      "source": [
        "The very last change could be a minimum as well, as we don't have a price following it. So, if the change at the last day is smaller than one day before, consider it to be a local minimum as well."
      ]
    },
    {
      "cell_type": "code",
      "metadata": {
        "id": "IQgOQVHtrRvx",
        "colab_type": "code",
        "colab": {
          "base_uri": "https://localhost:8080/",
          "height": 450
        },
        "outputId": "d82ce8a7-1481-4d65-87a0-0e203568103d"
      },
      "source": [
        "if df.loc[df.index[-1], 'Change'] < df.loc[df.index[-2], 'Change']: #If last change is smaller than day before\n",
        "  df.loc[df.index[-1], 'Local Min'] = df.loc[df.index[-1], 'Change'] #Count last change as local minimum\n",
        "\n",
        "df"
      ],
      "execution_count": 11,
      "outputs": [
        {
          "output_type": "execute_result",
          "data": {
            "text/html": [
              "<div>\n",
              "<style scoped>\n",
              "    .dataframe tbody tr th:only-of-type {\n",
              "        vertical-align: middle;\n",
              "    }\n",
              "\n",
              "    .dataframe tbody tr th {\n",
              "        vertical-align: top;\n",
              "    }\n",
              "\n",
              "    .dataframe thead th {\n",
              "        text-align: right;\n",
              "    }\n",
              "</style>\n",
              "<table border=\"1\" class=\"dataframe\">\n",
              "  <thead>\n",
              "    <tr style=\"text-align: right;\">\n",
              "      <th></th>\n",
              "      <th>Company</th>\n",
              "      <th>Close</th>\n",
              "      <th>Reference Price</th>\n",
              "      <th>Change</th>\n",
              "      <th>Local Min</th>\n",
              "    </tr>\n",
              "    <tr>\n",
              "      <th>Date</th>\n",
              "      <th></th>\n",
              "      <th></th>\n",
              "      <th></th>\n",
              "      <th></th>\n",
              "      <th></th>\n",
              "    </tr>\n",
              "  </thead>\n",
              "  <tbody>\n",
              "    <tr>\n",
              "      <th>1962-01-02</th>\n",
              "      <td>Boeing</td>\n",
              "      <td>0.823045</td>\n",
              "      <td>0.823045</td>\n",
              "      <td>0.000000</td>\n",
              "      <td>NaN</td>\n",
              "    </tr>\n",
              "    <tr>\n",
              "      <th>1962-01-03</th>\n",
              "      <td>Boeing</td>\n",
              "      <td>0.839506</td>\n",
              "      <td>0.823045</td>\n",
              "      <td>0.020000</td>\n",
              "      <td>NaN</td>\n",
              "    </tr>\n",
              "    <tr>\n",
              "      <th>1962-01-04</th>\n",
              "      <td>Boeing</td>\n",
              "      <td>0.831276</td>\n",
              "      <td>0.823045</td>\n",
              "      <td>0.010000</td>\n",
              "      <td>NaN</td>\n",
              "    </tr>\n",
              "    <tr>\n",
              "      <th>1962-01-05</th>\n",
              "      <td>Boeing</td>\n",
              "      <td>0.814815</td>\n",
              "      <td>0.823045</td>\n",
              "      <td>-0.010000</td>\n",
              "      <td>-0.010000</td>\n",
              "    </tr>\n",
              "    <tr>\n",
              "      <th>1962-01-08</th>\n",
              "      <td>Boeing</td>\n",
              "      <td>0.816872</td>\n",
              "      <td>0.823045</td>\n",
              "      <td>-0.007500</td>\n",
              "      <td>NaN</td>\n",
              "    </tr>\n",
              "    <tr>\n",
              "      <th>...</th>\n",
              "      <td>...</td>\n",
              "      <td>...</td>\n",
              "      <td>...</td>\n",
              "      <td>...</td>\n",
              "      <td>...</td>\n",
              "    </tr>\n",
              "    <tr>\n",
              "      <th>2020-08-19</th>\n",
              "      <td>Boeing</td>\n",
              "      <td>169.270004</td>\n",
              "      <td>179.789993</td>\n",
              "      <td>-0.058513</td>\n",
              "      <td>-0.058513</td>\n",
              "    </tr>\n",
              "    <tr>\n",
              "      <th>2020-08-20</th>\n",
              "      <td>Boeing</td>\n",
              "      <td>169.580002</td>\n",
              "      <td>176.449997</td>\n",
              "      <td>-0.038935</td>\n",
              "      <td>NaN</td>\n",
              "    </tr>\n",
              "    <tr>\n",
              "      <th>2020-08-21</th>\n",
              "      <td>Boeing</td>\n",
              "      <td>167.500000</td>\n",
              "      <td>173.759995</td>\n",
              "      <td>-0.036027</td>\n",
              "      <td>NaN</td>\n",
              "    </tr>\n",
              "    <tr>\n",
              "      <th>2020-08-24</th>\n",
              "      <td>Boeing</td>\n",
              "      <td>178.270004</td>\n",
              "      <td>170.210007</td>\n",
              "      <td>0.047353</td>\n",
              "      <td>NaN</td>\n",
              "    </tr>\n",
              "    <tr>\n",
              "      <th>2020-08-25</th>\n",
              "      <td>Boeing</td>\n",
              "      <td>174.729996</td>\n",
              "      <td>170.839996</td>\n",
              "      <td>0.022770</td>\n",
              "      <td>0.022770</td>\n",
              "    </tr>\n",
              "  </tbody>\n",
              "</table>\n",
              "<p>14764 rows × 5 columns</p>\n",
              "</div>"
            ],
            "text/plain": [
              "           Company       Close  Reference Price    Change  Local Min\n",
              "Date                                                                \n",
              "1962-01-02  Boeing    0.823045         0.823045  0.000000        NaN\n",
              "1962-01-03  Boeing    0.839506         0.823045  0.020000        NaN\n",
              "1962-01-04  Boeing    0.831276         0.823045  0.010000        NaN\n",
              "1962-01-05  Boeing    0.814815         0.823045 -0.010000  -0.010000\n",
              "1962-01-08  Boeing    0.816872         0.823045 -0.007500        NaN\n",
              "...            ...         ...              ...       ...        ...\n",
              "2020-08-19  Boeing  169.270004       179.789993 -0.058513  -0.058513\n",
              "2020-08-20  Boeing  169.580002       176.449997 -0.038935        NaN\n",
              "2020-08-21  Boeing  167.500000       173.759995 -0.036027        NaN\n",
              "2020-08-24  Boeing  178.270004       170.210007  0.047353        NaN\n",
              "2020-08-25  Boeing  174.729996       170.839996  0.022770   0.022770\n",
              "\n",
              "[14764 rows x 5 columns]"
            ]
          },
          "metadata": {
            "tags": []
          },
          "execution_count": 11
        }
      ]
    },
    {
      "cell_type": "markdown",
      "metadata": {
        "id": "oDd5--qNsrLW",
        "colab_type": "text"
      },
      "source": [
        "Find out the worst crisis by selecting the rows for which the Change has a Local Minimum inferior to the large_loss parameter defined at the top of the Notebook.\n",
        "\n",
        "df1 will be a smaller copy of the whole df. It will hold only values where Local min is smaller than Large_Loss we defined earlier.."
      ]
    },
    {
      "cell_type": "code",
      "metadata": {
        "id": "q--G81ans7OS",
        "colab_type": "code",
        "colab": {
          "base_uri": "https://localhost:8080/",
          "height": 514
        },
        "outputId": "52651c3f-3d1a-4728-a035-4e7787d80ee9"
      },
      "source": [
        "df1 = df[ df['Local Min'] < large_loss ].copy() #We made a copy of df, stored in df1 that has values only where Local min < Large loss\n",
        "df1"
      ],
      "execution_count": 12,
      "outputs": [
        {
          "output_type": "execute_result",
          "data": {
            "text/html": [
              "<div>\n",
              "<style scoped>\n",
              "    .dataframe tbody tr th:only-of-type {\n",
              "        vertical-align: middle;\n",
              "    }\n",
              "\n",
              "    .dataframe tbody tr th {\n",
              "        vertical-align: top;\n",
              "    }\n",
              "\n",
              "    .dataframe thead th {\n",
              "        text-align: right;\n",
              "    }\n",
              "</style>\n",
              "<table border=\"1\" class=\"dataframe\">\n",
              "  <thead>\n",
              "    <tr style=\"text-align: right;\">\n",
              "      <th></th>\n",
              "      <th>Company</th>\n",
              "      <th>Close</th>\n",
              "      <th>Reference Price</th>\n",
              "      <th>Change</th>\n",
              "      <th>Local Min</th>\n",
              "    </tr>\n",
              "    <tr>\n",
              "      <th>Date</th>\n",
              "      <th></th>\n",
              "      <th></th>\n",
              "      <th></th>\n",
              "      <th></th>\n",
              "      <th></th>\n",
              "    </tr>\n",
              "  </thead>\n",
              "  <tbody>\n",
              "    <tr>\n",
              "      <th>1970-02-05</th>\n",
              "      <td>Boeing</td>\n",
              "      <td>0.699588</td>\n",
              "      <td>1.020576</td>\n",
              "      <td>-0.314516</td>\n",
              "      <td>-0.314516</td>\n",
              "    </tr>\n",
              "    <tr>\n",
              "      <th>1973-12-03</th>\n",
              "      <td>Boeing</td>\n",
              "      <td>0.465021</td>\n",
              "      <td>0.666667</td>\n",
              "      <td>-0.302469</td>\n",
              "      <td>-0.302469</td>\n",
              "    </tr>\n",
              "    <tr>\n",
              "      <th>1973-12-05</th>\n",
              "      <td>Boeing</td>\n",
              "      <td>0.448560</td>\n",
              "      <td>0.658436</td>\n",
              "      <td>-0.318750</td>\n",
              "      <td>-0.318750</td>\n",
              "    </tr>\n",
              "    <tr>\n",
              "      <th>2001-09-18</th>\n",
              "      <td>Boeing</td>\n",
              "      <td>33.139999</td>\n",
              "      <td>55.889999</td>\n",
              "      <td>-0.407050</td>\n",
              "      <td>-0.407050</td>\n",
              "    </tr>\n",
              "    <tr>\n",
              "      <th>2001-09-20</th>\n",
              "      <td>Boeing</td>\n",
              "      <td>29.760000</td>\n",
              "      <td>55.130001</td>\n",
              "      <td>-0.460185</td>\n",
              "      <td>-0.460185</td>\n",
              "    </tr>\n",
              "    <tr>\n",
              "      <th>2001-09-26</th>\n",
              "      <td>Boeing</td>\n",
              "      <td>34.290001</td>\n",
              "      <td>52.299999</td>\n",
              "      <td>-0.344359</td>\n",
              "      <td>-0.344359</td>\n",
              "    </tr>\n",
              "    <tr>\n",
              "      <th>2001-10-01</th>\n",
              "      <td>Boeing</td>\n",
              "      <td>32.400002</td>\n",
              "      <td>53.060001</td>\n",
              "      <td>-0.389371</td>\n",
              "      <td>-0.389371</td>\n",
              "    </tr>\n",
              "    <tr>\n",
              "      <th>2008-10-10</th>\n",
              "      <td>Boeing</td>\n",
              "      <td>41.799999</td>\n",
              "      <td>63.299999</td>\n",
              "      <td>-0.339652</td>\n",
              "      <td>-0.339652</td>\n",
              "    </tr>\n",
              "    <tr>\n",
              "      <th>2009-03-02</th>\n",
              "      <td>Boeing</td>\n",
              "      <td>29.510000</td>\n",
              "      <td>42.310001</td>\n",
              "      <td>-0.302529</td>\n",
              "      <td>-0.302529</td>\n",
              "    </tr>\n",
              "    <tr>\n",
              "      <th>2020-03-12</th>\n",
              "      <td>Boeing</td>\n",
              "      <td>154.839996</td>\n",
              "      <td>347.450012</td>\n",
              "      <td>-0.554353</td>\n",
              "      <td>-0.554353</td>\n",
              "    </tr>\n",
              "    <tr>\n",
              "      <th>2020-03-20</th>\n",
              "      <td>Boeing</td>\n",
              "      <td>95.010002</td>\n",
              "      <td>330.380005</td>\n",
              "      <td>-0.712422</td>\n",
              "      <td>-0.712422</td>\n",
              "    </tr>\n",
              "    <tr>\n",
              "      <th>2020-03-30</th>\n",
              "      <td>Boeing</td>\n",
              "      <td>152.279999</td>\n",
              "      <td>289.269989</td>\n",
              "      <td>-0.473571</td>\n",
              "      <td>-0.473571</td>\n",
              "    </tr>\n",
              "    <tr>\n",
              "      <th>2020-04-01</th>\n",
              "      <td>Boeing</td>\n",
              "      <td>130.699997</td>\n",
              "      <td>283.119995</td>\n",
              "      <td>-0.538358</td>\n",
              "      <td>-0.538358</td>\n",
              "    </tr>\n",
              "    <tr>\n",
              "      <th>2020-04-07</th>\n",
              "      <td>Boeing</td>\n",
              "      <td>141.580002</td>\n",
              "      <td>231.009995</td>\n",
              "      <td>-0.387126</td>\n",
              "      <td>-0.387126</td>\n",
              "    </tr>\n",
              "  </tbody>\n",
              "</table>\n",
              "</div>"
            ],
            "text/plain": [
              "           Company       Close  Reference Price    Change  Local Min\n",
              "Date                                                                \n",
              "1970-02-05  Boeing    0.699588         1.020576 -0.314516  -0.314516\n",
              "1973-12-03  Boeing    0.465021         0.666667 -0.302469  -0.302469\n",
              "1973-12-05  Boeing    0.448560         0.658436 -0.318750  -0.318750\n",
              "2001-09-18  Boeing   33.139999        55.889999 -0.407050  -0.407050\n",
              "2001-09-20  Boeing   29.760000        55.130001 -0.460185  -0.460185\n",
              "2001-09-26  Boeing   34.290001        52.299999 -0.344359  -0.344359\n",
              "2001-10-01  Boeing   32.400002        53.060001 -0.389371  -0.389371\n",
              "2008-10-10  Boeing   41.799999        63.299999 -0.339652  -0.339652\n",
              "2009-03-02  Boeing   29.510000        42.310001 -0.302529  -0.302529\n",
              "2020-03-12  Boeing  154.839996       347.450012 -0.554353  -0.554353\n",
              "2020-03-20  Boeing   95.010002       330.380005 -0.712422  -0.712422\n",
              "2020-03-30  Boeing  152.279999       289.269989 -0.473571  -0.473571\n",
              "2020-04-01  Boeing  130.699997       283.119995 -0.538358  -0.538358\n",
              "2020-04-07  Boeing  141.580002       231.009995 -0.387126  -0.387126"
            ]
          },
          "metadata": {
            "tags": []
          },
          "execution_count": 12
        }
      ]
    },
    {
      "cell_type": "markdown",
      "metadata": {
        "id": "lSEiDxKhuJHD",
        "colab_type": "text"
      },
      "source": [
        "Here we notice multiple local minimums in the span of a time_window.\n",
        "This could lead to redundancy so we will keep only one local minimum (largest loss endured) that had the lowest value in entire time span of a given time_window\n",
        "\n",
        "The following function will use a time_cursor that will iteratively at the start of each time window get the local minimums and find the date with worst loss as being the representative of the crisis during that time_window."
      ]
    },
    {
      "cell_type": "code",
      "metadata": {
        "id": "9pucwgJpNlwu",
        "colab_type": "code",
        "colab": {}
      },
      "source": [
        "def get_single_crisis_dates_per_time_window(df):\n",
        "    '''\n",
        "    DOCSTRING: #Document string, defined by triple quotes\n",
        "    INPUT: A dataFrame with local minimum of Change, with possibly several local minimums per time_window.\n",
        "    OUTPUT: List of dates corresponding to the worst data points (worst loss) within each time_window.\n",
        "    The output is the final list of crisis dates for that Stock over the period under study.\n",
        "    '''\n",
        "    crisis_dates = [] #initiate a list that will contain crisis dates\n",
        "    time_cursor = df.index[0] #initiate a time cursor that will move at the start of each time_window to consider \n",
        "    # print(f ' time_cursor initiated at: {time_cursor} ' )\n",
        "    time_window_df = df.loc[time_cursor:time_cursor+DateOffset(months = 1)] #data within the time_window being pointed out by the cursor\n",
        "\n",
        "    #Loop running as long as the cursor can be moved to a next time_window (i.e as long as the dates are moving forward)\n",
        "    while True:\n",
        "      # print('\\n')\n",
        "      # print( time_window_df )\n",
        "      # get the date of the worst crisis during the time_window and append to the list of crisis dates\n",
        "      crisis_dates.append( time_window_df['Change'].idxmin()) #This finds the min of value of change among the time_window_df dates' data\n",
        "      # print(f'\\nThe crisis dates so far are: {crisis_dates}')\n",
        "\n",
        "    # Try to get the next row after that time_window, and place the time_cursor there\n",
        "      try:\n",
        "        next_row = df[ time_window_df.index[-1] : ].iloc[1] #try to get the next row after that time_window\n",
        "        time_cursor = next_row.name #place the time_cursor at the date corresponding to next row\n",
        "        #print(f 'Moving the time_cursor to the start of the next time window to consider: {time_cursor}')\n",
        "        time_window_df = df.loc[time_cursor:time_cursor + DateOffset(months =1)] #update the data being pointed out by the time_cursor\n",
        "\n",
        "      #If no next row, we can end the loop there\n",
        "      except:\n",
        "        break\n",
        "     #print(f'There is not next date to which cursor can move, that is currently at {time_cursor}\\n BREAK OUT OF THE LOOP)\n",
        "    \n",
        "    \n",
        "    return crisis_dates  \n"
      ],
      "execution_count": 34,
      "outputs": []
    },
    {
      "cell_type": "code",
      "metadata": {
        "id": "HUo5Yd1vjttO",
        "colab_type": "code",
        "colab": {}
      },
      "source": [
        "stock_crisis_dates = get_single_crisis_dates_per_time_window(df1)"
      ],
      "execution_count": 36,
      "outputs": []
    },
    {
      "cell_type": "markdown",
      "metadata": {
        "id": "AhjpIm6AnCaF",
        "colab_type": "text"
      },
      "source": [
        "**Let us see the worst crisis dates now:**"
      ]
    },
    {
      "cell_type": "code",
      "metadata": {
        "id": "CI0MeoyVnF0D",
        "colab_type": "code",
        "colab": {
          "base_uri": "https://localhost:8080/",
          "height": 119
        },
        "outputId": "b427beee-8a0b-4886-8a7e-7ad2b71cbc75"
      },
      "source": [
        "stock_crisis_dates"
      ],
      "execution_count": 37,
      "outputs": [
        {
          "output_type": "execute_result",
          "data": {
            "text/plain": [
              "[Timestamp('1970-02-05 00:00:00'),\n",
              " Timestamp('1973-12-05 00:00:00'),\n",
              " Timestamp('2001-09-20 00:00:00'),\n",
              " Timestamp('2008-10-10 00:00:00'),\n",
              " Timestamp('2009-03-02 00:00:00'),\n",
              " Timestamp('2020-03-20 00:00:00')]"
            ]
          },
          "metadata": {
            "tags": []
          },
          "execution_count": 37
        }
      ]
    },
    {
      "cell_type": "markdown",
      "metadata": {
        "id": "dybbrdJLnMDr",
        "colab_type": "text"
      },
      "source": [
        "**Data corresponding to these dates is:**"
      ]
    },
    {
      "cell_type": "code",
      "metadata": {
        "id": "JmB7FMqunPCs",
        "colab_type": "code",
        "colab": {
          "base_uri": "https://localhost:8080/",
          "height": 266
        },
        "outputId": "baa4344e-8d67-4b40-fea2-025fda64f5ab"
      },
      "source": [
        "df1 = df1.loc[stock_crisis_dates] # limit df1 (target output of the Notebook) to worst crisis dates only\n",
        "df1"
      ],
      "execution_count": 38,
      "outputs": [
        {
          "output_type": "execute_result",
          "data": {
            "text/html": [
              "<div>\n",
              "<style scoped>\n",
              "    .dataframe tbody tr th:only-of-type {\n",
              "        vertical-align: middle;\n",
              "    }\n",
              "\n",
              "    .dataframe tbody tr th {\n",
              "        vertical-align: top;\n",
              "    }\n",
              "\n",
              "    .dataframe thead th {\n",
              "        text-align: right;\n",
              "    }\n",
              "</style>\n",
              "<table border=\"1\" class=\"dataframe\">\n",
              "  <thead>\n",
              "    <tr style=\"text-align: right;\">\n",
              "      <th></th>\n",
              "      <th>Company</th>\n",
              "      <th>Close</th>\n",
              "      <th>Reference Price</th>\n",
              "      <th>Change</th>\n",
              "      <th>Local Min</th>\n",
              "    </tr>\n",
              "    <tr>\n",
              "      <th>Date</th>\n",
              "      <th></th>\n",
              "      <th></th>\n",
              "      <th></th>\n",
              "      <th></th>\n",
              "      <th></th>\n",
              "    </tr>\n",
              "  </thead>\n",
              "  <tbody>\n",
              "    <tr>\n",
              "      <th>1970-02-05</th>\n",
              "      <td>Boeing</td>\n",
              "      <td>0.699588</td>\n",
              "      <td>1.020576</td>\n",
              "      <td>-0.314516</td>\n",
              "      <td>-0.314516</td>\n",
              "    </tr>\n",
              "    <tr>\n",
              "      <th>1973-12-05</th>\n",
              "      <td>Boeing</td>\n",
              "      <td>0.448560</td>\n",
              "      <td>0.658436</td>\n",
              "      <td>-0.318750</td>\n",
              "      <td>-0.318750</td>\n",
              "    </tr>\n",
              "    <tr>\n",
              "      <th>2001-09-20</th>\n",
              "      <td>Boeing</td>\n",
              "      <td>29.760000</td>\n",
              "      <td>55.130001</td>\n",
              "      <td>-0.460185</td>\n",
              "      <td>-0.460185</td>\n",
              "    </tr>\n",
              "    <tr>\n",
              "      <th>2008-10-10</th>\n",
              "      <td>Boeing</td>\n",
              "      <td>41.799999</td>\n",
              "      <td>63.299999</td>\n",
              "      <td>-0.339652</td>\n",
              "      <td>-0.339652</td>\n",
              "    </tr>\n",
              "    <tr>\n",
              "      <th>2009-03-02</th>\n",
              "      <td>Boeing</td>\n",
              "      <td>29.510000</td>\n",
              "      <td>42.310001</td>\n",
              "      <td>-0.302529</td>\n",
              "      <td>-0.302529</td>\n",
              "    </tr>\n",
              "    <tr>\n",
              "      <th>2020-03-20</th>\n",
              "      <td>Boeing</td>\n",
              "      <td>95.010002</td>\n",
              "      <td>330.380005</td>\n",
              "      <td>-0.712422</td>\n",
              "      <td>-0.712422</td>\n",
              "    </tr>\n",
              "  </tbody>\n",
              "</table>\n",
              "</div>"
            ],
            "text/plain": [
              "           Company      Close  Reference Price    Change  Local Min\n",
              "Date                                                               \n",
              "1970-02-05  Boeing   0.699588         1.020576 -0.314516  -0.314516\n",
              "1973-12-05  Boeing   0.448560         0.658436 -0.318750  -0.318750\n",
              "2001-09-20  Boeing  29.760000        55.130001 -0.460185  -0.460185\n",
              "2008-10-10  Boeing  41.799999        63.299999 -0.339652  -0.339652\n",
              "2009-03-02  Boeing  29.510000        42.310001 -0.302529  -0.302529\n",
              "2020-03-20  Boeing  95.010002       330.380005 -0.712422  -0.712422"
            ]
          },
          "metadata": {
            "tags": []
          },
          "execution_count": 38
        }
      ]
    },
    {
      "cell_type": "markdown",
      "metadata": {
        "id": "Gl8CIQ-PnqNQ",
        "colab_type": "text"
      },
      "source": [
        "#Find the date by which the stock comes back to its initial price¶\n",
        "\n",
        "For a given crisis, we are going to retrieve the date by which the stock came back to the reference price from which it has fallen."
      ]
    },
    {
      "cell_type": "code",
      "metadata": {
        "id": "rQ-tIHLoowxd",
        "colab_type": "code",
        "colab": {
          "base_uri": "https://localhost:8080/",
          "height": 283
        },
        "outputId": "7c5ce2fd-b896-4422-bb83-ae6bc73efbe7"
      },
      "source": [
        "for crisis_date in df1.index: #Iterating through crisis dates in df1, looking for first date when stock registered a higher price than the Reference Price\n",
        "#It is possible that it never went higher than reference price, hence we use try.\n",
        "  try:\n",
        "    df1.loc[crisis_date, 'got back by'] = df.loc[( df.index >  crisis_date ) &\n",
        "                                                 (df.Close > df.loc[crisis_date, 'Reference Price'])].iloc[0].name.date()\n",
        "  except: \n",
        "    print(f'Couldnt find any date when stock got back to its reference price for crisis dated: {crisis_date}' )\n",
        "df1   "
      ],
      "execution_count": 42,
      "outputs": [
        {
          "output_type": "stream",
          "text": [
            "Couldnt find any date when stock got back to its reference price for crisis dated: 2020-03-20 00:00:00\n"
          ],
          "name": "stdout"
        },
        {
          "output_type": "execute_result",
          "data": {
            "text/html": [
              "<div>\n",
              "<style scoped>\n",
              "    .dataframe tbody tr th:only-of-type {\n",
              "        vertical-align: middle;\n",
              "    }\n",
              "\n",
              "    .dataframe tbody tr th {\n",
              "        vertical-align: top;\n",
              "    }\n",
              "\n",
              "    .dataframe thead th {\n",
              "        text-align: right;\n",
              "    }\n",
              "</style>\n",
              "<table border=\"1\" class=\"dataframe\">\n",
              "  <thead>\n",
              "    <tr style=\"text-align: right;\">\n",
              "      <th></th>\n",
              "      <th>Company</th>\n",
              "      <th>Close</th>\n",
              "      <th>Reference Price</th>\n",
              "      <th>Change</th>\n",
              "      <th>Local Min</th>\n",
              "      <th>got back by</th>\n",
              "    </tr>\n",
              "    <tr>\n",
              "      <th>Date</th>\n",
              "      <th></th>\n",
              "      <th></th>\n",
              "      <th></th>\n",
              "      <th></th>\n",
              "      <th></th>\n",
              "      <th></th>\n",
              "    </tr>\n",
              "  </thead>\n",
              "  <tbody>\n",
              "    <tr>\n",
              "      <th>1970-02-05</th>\n",
              "      <td>Boeing</td>\n",
              "      <td>0.699588</td>\n",
              "      <td>1.020576</td>\n",
              "      <td>-0.314516</td>\n",
              "      <td>-0.314516</td>\n",
              "      <td>1975-06-03</td>\n",
              "    </tr>\n",
              "    <tr>\n",
              "      <th>1973-12-05</th>\n",
              "      <td>Boeing</td>\n",
              "      <td>0.448560</td>\n",
              "      <td>0.658436</td>\n",
              "      <td>-0.318750</td>\n",
              "      <td>-0.318750</td>\n",
              "      <td>1974-08-22</td>\n",
              "    </tr>\n",
              "    <tr>\n",
              "      <th>2001-09-20</th>\n",
              "      <td>Boeing</td>\n",
              "      <td>29.760000</td>\n",
              "      <td>55.130001</td>\n",
              "      <td>-0.460185</td>\n",
              "      <td>-0.460185</td>\n",
              "      <td>2004-09-17</td>\n",
              "    </tr>\n",
              "    <tr>\n",
              "      <th>2008-10-10</th>\n",
              "      <td>Boeing</td>\n",
              "      <td>41.799999</td>\n",
              "      <td>63.299999</td>\n",
              "      <td>-0.339652</td>\n",
              "      <td>-0.339652</td>\n",
              "      <td>2010-02-19</td>\n",
              "    </tr>\n",
              "    <tr>\n",
              "      <th>2009-03-02</th>\n",
              "      <td>Boeing</td>\n",
              "      <td>29.510000</td>\n",
              "      <td>42.310001</td>\n",
              "      <td>-0.302529</td>\n",
              "      <td>-0.302529</td>\n",
              "      <td>2009-05-05</td>\n",
              "    </tr>\n",
              "    <tr>\n",
              "      <th>2020-03-20</th>\n",
              "      <td>Boeing</td>\n",
              "      <td>95.010002</td>\n",
              "      <td>330.380005</td>\n",
              "      <td>-0.712422</td>\n",
              "      <td>-0.712422</td>\n",
              "      <td>NaN</td>\n",
              "    </tr>\n",
              "  </tbody>\n",
              "</table>\n",
              "</div>"
            ],
            "text/plain": [
              "           Company      Close  Reference Price    Change  Local Min got back by\n",
              "Date                                                                           \n",
              "1970-02-05  Boeing   0.699588         1.020576 -0.314516  -0.314516  1975-06-03\n",
              "1973-12-05  Boeing   0.448560         0.658436 -0.318750  -0.318750  1974-08-22\n",
              "2001-09-20  Boeing  29.760000        55.130001 -0.460185  -0.460185  2004-09-17\n",
              "2008-10-10  Boeing  41.799999        63.299999 -0.339652  -0.339652  2010-02-19\n",
              "2009-03-02  Boeing  29.510000        42.310001 -0.302529  -0.302529  2009-05-05\n",
              "2020-03-20  Boeing  95.010002       330.380005 -0.712422  -0.712422         NaN"
            ]
          },
          "metadata": {
            "tags": []
          },
          "execution_count": 42
        }
      ]
    },
    {
      "cell_type": "code",
      "metadata": {
        "id": "1lIH77zX5cHE",
        "colab_type": "code",
        "colab": {}
      },
      "source": [
        ""
      ],
      "execution_count": null,
      "outputs": []
    }
  ]
}